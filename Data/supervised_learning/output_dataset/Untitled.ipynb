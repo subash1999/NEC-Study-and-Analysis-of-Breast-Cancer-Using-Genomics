{
 "cells": [
  {
   "cell_type": "code",
   "execution_count": 1,
   "metadata": {},
   "outputs": [],
   "source": [
    "import pandas as pd\n",
    "import numpy as np\n",
    "df = pd.read_csv(\"gse_2034_processed_data.csv\")"
   ]
  },
  {
   "cell_type": "code",
   "execution_count": null,
   "metadata": {},
   "outputs": [],
   "source": []
  },
  {
   "cell_type": "code",
   "execution_count": 19,
   "metadata": {},
   "outputs": [
    {
     "name": "stdout",
     "output_type": "stream",
     "text": [
      "Index(['220', '174', '285', '123', '156', '111', '93', '22', '0', '56', '87',\n",
      "       '76', '178', '222', '230', '267', '277', '156.1', '255', '27', '35',\n",
      "       '174.1', '223', '12', '39', '67', '49', '58', '77', '97', '100'],\n",
      "      dtype='object')\n",
      "220 Result :  1\n",
      "174 Result :  0\n",
      "285 Result :  0\n",
      "123 Result :  0\n",
      "156 Result :  0\n",
      "111 Result :  1\n",
      "93 Result :  1\n",
      "22 Result :  0\n",
      "0 Result :  0\n",
      "56 Result :  0\n",
      "87 Result :  0\n",
      "76 Result :  0\n",
      "178 Result :  1\n",
      "222 Result :  1\n",
      "230 Result :  1\n",
      "267 Result :  0\n",
      "277 Result :  0\n",
      "156 Result :  0\n",
      "255 Result :  0\n",
      "27 Result :  0\n",
      "35 Result :  0\n",
      "156 Result :  0\n",
      "223 Result :  0\n",
      "12 Result :  1\n",
      "39 Result :  0\n",
      "67 Result :  0\n",
      "49 Result :  1\n",
      "58 Result :  1\n",
      "77 Result :  0\n",
      "97 Result :  1\n",
      "100 Result :  1\n"
     ]
    }
   ],
   "source": [
    "row = pd.read_csv(\"a.csv\")\n",
    "print(row.columns)\n",
    "for x in row.columns:\n",
    "    if x == '156.1':\n",
    "        x = 156\n",
    "    if x == '174.1':\n",
    "        x = 156\n",
    "    x = int(x)\n",
    "    res = df.iloc[x][\"relapse\"]\n",
    "    print(x,\"Result : \",res)"
   ]
  },
  {
   "cell_type": "code",
   "execution_count": null,
   "metadata": {},
   "outputs": [],
   "source": []
  }
 ],
 "metadata": {
  "kernelspec": {
   "display_name": "Python 3",
   "language": "python",
   "name": "python3"
  },
  "language_info": {
   "codemirror_mode": {
    "name": "ipython",
    "version": 3
   },
   "file_extension": ".py",
   "mimetype": "text/x-python",
   "name": "python",
   "nbconvert_exporter": "python",
   "pygments_lexer": "ipython3",
   "version": "3.7.4"
  }
 },
 "nbformat": 4,
 "nbformat_minor": 2
}
